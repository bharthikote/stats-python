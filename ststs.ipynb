{
 "cells": [
  {
   "cell_type": "code",
   "execution_count": 43,
   "id": "f58371fd-e91e-4d98-a9e5-a0efea0e0e18",
   "metadata": {},
   "outputs": [],
   "source": [
    "import warnings\n",
    "\n",
    "# Ignore all warnings\n",
    "warnings.filterwarnings(\"ignore\")"
   ]
  },
  {
   "cell_type": "code",
   "execution_count": 11,
   "id": "1ca4f7d2-5d2e-43f8-b594-608959b4049a",
   "metadata": {},
   "outputs": [],
   "source": [
    "import numpy as np\n",
    "from statistics import mode"
   ]
  },
  {
   "cell_type": "code",
   "execution_count": 12,
   "id": "e0fbbb23-ac40-46b6-a020-c2d9a2b3baae",
   "metadata": {},
   "outputs": [],
   "source": [
    "population = np.random.randint(10,20, 50)"
   ]
  },
  {
   "cell_type": "code",
   "execution_count": 13,
   "id": "654783ce-e5b9-46cb-b60b-6da3287630f5",
   "metadata": {},
   "outputs": [
    {
     "data": {
      "text/plain": [
       "14.46"
      ]
     },
     "execution_count": 13,
     "metadata": {},
     "output_type": "execute_result"
    }
   ],
   "source": [
    "np.mean(population)"
   ]
  },
  {
   "cell_type": "code",
   "execution_count": 14,
   "id": "121ade1a-e828-4fe4-bdfc-a62ca0903be0",
   "metadata": {},
   "outputs": [
    {
     "data": {
      "text/plain": [
       "14.5"
      ]
     },
     "execution_count": 14,
     "metadata": {},
     "output_type": "execute_result"
    }
   ],
   "source": [
    "np.median(population)"
   ]
  },
  {
   "cell_type": "code",
   "execution_count": 16,
   "id": "390169a7-ba6a-4e4c-8959-1c4c68727c53",
   "metadata": {},
   "outputs": [
    {
     "data": {
      "text/plain": [
       "16"
      ]
     },
     "execution_count": 16,
     "metadata": {},
     "output_type": "execute_result"
    }
   ],
   "source": [
    "mode(population)"
   ]
  },
  {
   "cell_type": "code",
   "execution_count": 24,
   "id": "e414b0f0-c6c0-4e0f-9751-71f713f8993e",
   "metadata": {},
   "outputs": [],
   "source": [
    "sample1  = np.random.choice(population, 20)"
   ]
  },
  {
   "cell_type": "code",
   "execution_count": 25,
   "id": "579472e0-766c-42ad-b024-af86ce398653",
   "metadata": {},
   "outputs": [
    {
     "data": {
      "text/plain": [
       "14.2"
      ]
     },
     "execution_count": 25,
     "metadata": {},
     "output_type": "execute_result"
    }
   ],
   "source": [
    "np.mean(sample1)"
   ]
  },
  {
   "cell_type": "code",
   "execution_count": 26,
   "id": "b0843600-af35-492c-a7a4-4aa5865e694a",
   "metadata": {},
   "outputs": [
    {
     "data": {
      "text/plain": [
       "14.5"
      ]
     },
     "execution_count": 26,
     "metadata": {},
     "output_type": "execute_result"
    }
   ],
   "source": [
    "np.median(sample1)"
   ]
  },
  {
   "cell_type": "code",
   "execution_count": 27,
   "id": "0ba7bdf2-54b0-4700-8050-0c834606952d",
   "metadata": {},
   "outputs": [
    {
     "data": {
      "text/plain": [
       "12"
      ]
     },
     "execution_count": 27,
     "metadata": {},
     "output_type": "execute_result"
    }
   ],
   "source": [
    "mode(sample1)"
   ]
  },
  {
   "cell_type": "code",
   "execution_count": 30,
   "id": "0ce1be47-6a5d-4b17-998d-fed852c81340",
   "metadata": {},
   "outputs": [],
   "source": [
    "sample1  = np.random.choice(population, 20)\n",
    "sample2  = np.random.choice(population, 20)\n",
    "sample3  = np.random.choice(population, 20)\n",
    "sample4  = np.random.choice(population, 20)"
   ]
  },
  {
   "cell_type": "code",
   "execution_count": 33,
   "id": "cc72c0f5-8e5a-4354-8ca3-961d161548f4",
   "metadata": {},
   "outputs": [],
   "source": [
    "mean_of_samples = []\n",
    "all_sample = [sample1, sample2, sample3, sample4]\n",
    "for sample in all_sample:\n",
    "    mean_of_samples.append(np.mean(sample))"
   ]
  },
  {
   "cell_type": "code",
   "execution_count": 34,
   "id": "9c0c8e48-c15d-4268-bd31-e260ee5a04fa",
   "metadata": {},
   "outputs": [
    {
     "data": {
      "text/plain": [
       "[14.55, 14.85, 15.2, 14.05]"
      ]
     },
     "execution_count": 34,
     "metadata": {},
     "output_type": "execute_result"
    }
   ],
   "source": [
    "mean_of_samples"
   ]
  },
  {
   "cell_type": "markdown",
   "id": "cf75aed1-06dd-4577-8853-339373538e87",
   "metadata": {},
   "source": [
    "# Cental Limit Theorem"
   ]
  },
  {
   "cell_type": "code",
   "execution_count": 37,
   "id": "0ec77112-3854-478c-b8b4-b2c8a20cb7f2",
   "metadata": {},
   "outputs": [],
   "source": [
    "pop_bnd = np.random.binomial(10, 0.5, 10000)"
   ]
  },
  {
   "cell_type": "code",
   "execution_count": 124,
   "id": "6f136bc6-3d8b-4f27-9b62-2938409d6403",
   "metadata": {},
   "outputs": [],
   "source": [
    "sample1  = np.random.choice(pop_bnd, 20)\n",
    "sample2  = np.random.choice(pop_bnd, 20)\n",
    "sample3  = np.random.choice(pop_bnd, 20)\n",
    "sample4  = np.random.choice(pop_bnd, 20)"
   ]
  },
  {
   "cell_type": "code",
   "execution_count": 125,
   "id": "a9863f39-c1c1-47d3-a615-4f2ed8cb7a8f",
   "metadata": {},
   "outputs": [],
   "source": [
    "mean_of_samples = []\n",
    "all_sample = [sample1, sample2, sample3, sample4]\n",
    "for sample in all_sample:\n",
    "    mean_of_samples.append(np.mean(sample))"
   ]
  },
  {
   "cell_type": "code",
   "execution_count": 126,
   "id": "37996bbb-3360-4aa0-9cab-5a9fc396f697",
   "metadata": {},
   "outputs": [],
   "source": [
    "import seaborn as sns"
   ]
  },
  {
   "cell_type": "code",
   "execution_count": 127,
   "id": "7742931c-ab5d-4cba-ab91-17b768df9478",
   "metadata": {},
   "outputs": [
    {
     "data": {
      "text/plain": [
       "<AxesSubplot:ylabel='Density'>"
      ]
     },
     "execution_count": 127,
     "metadata": {},
     "output_type": "execute_result"
    },
    {
     "data": {
      "image/png": "[encoded data removed]",
      "text/plain": [
       "<Figure size 640x480 with 1 Axes>"
      ]
     },
     "metadata": {},
     "output_type": "display_data"
    }
   ],
   "source": [
    "sns.distplot(pop_bnd)\n",
    "\n",
    "#Binomial distribution"
   ]
  },
  {
   "cell_type": "code",
   "execution_count": null,
   "id": "a93df541-d9cf-4cf9-bbdc-3348908950cd",
   "metadata": {},
   "outputs": [],
   "source": []
  },
  {
   "cell_type": "code",
   "execution_count": 128,
   "id": "62053a92-72a9-4c2a-af40-feb417c376cc",
   "metadata": {},
   "outputs": [],
   "source": [
    "size = int(len(pop_bnd)*0.3)"
   ]
  },
  {
   "cell_type": "code",
   "execution_count": 129,
   "id": "1fb5117a-68bc-4c00-b72e-e49c4eff90f6",
   "metadata": {},
   "outputs": [],
   "source": [
    "sample_mean = []\n",
    "for i in range(1,31):\n",
    "    sample = np.random.choice(pop_bnd, size= size)\n",
    "    sample_mean.append(np.mean(sample))"
   ]
  },
  {
   "cell_type": "code",
   "execution_count": 130,
   "id": "65b3e4eb-9e1a-4f98-b929-886a5663b028",
   "metadata": {},
   "outputs": [
    {
     "name": "stdout",
     "output_type": "stream",
     "text": [
      "[5.012, 4.979333333333333, 4.9783333333333335, 5.037, 4.993333333333333, 4.992, 4.967666666666666, 5.023333333333333, 5.061333333333334, 4.924, 5.001, 4.996666666666667, 5.019333333333333, 4.971333333333333, 5.008, 5.030333333333333, 5.016, 5.053333333333334, 4.980333333333333, 5.061, 4.985666666666667, 4.980666666666667, 5.0216666666666665, 5.04, 5.001, 5.030333333333333, 4.992333333333334, 5.039666666666666, 4.996333333333333, 4.943]\n"
     ]
    },
    {
     "data": {
      "text/plain": [
       "30"
      ]
     },
     "execution_count": 130,
     "metadata": {},
     "output_type": "execute_result"
    }
   ],
   "source": [
    "print(sample_mean)\n",
    "len(sample_mean)"
   ]
  },
  {
   "cell_type": "code",
   "execution_count": 131,
   "id": "fef72ce7-1ddb-4bfa-b6bf-ab114b21849f",
   "metadata": {},
   "outputs": [
    {
     "data": {
      "text/plain": [
       "<AxesSubplot:ylabel='Density'>"
      ]
     },
     "execution_count": 131,
     "metadata": {},
     "output_type": "execute_result"
    },
    {
     "data": {
      "image/png": "[encoded data removed]",
      "text/plain": [
       "<Figure size 640x480 with 1 Axes>"
      ]
     },
     "metadata": {},
     "output_type": "display_data"
    }
   ],
   "source": [
    "sns.distplot(sample_mean)\n",
    "\n",
    "#here is the Normal Distribution"
   ]
  },
  {
   "cell_type": "code",
   "execution_count": 132,
   "id": "9eb6db54-30c1-4211-8f63-dbc61725efa0",
   "metadata": {},
   "outputs": [
    {
     "name": "stdout",
     "output_type": "stream",
     "text": [
      "Mean:  5.005\n",
      "Median:  5.001\n",
      "Mode:  5.001\n"
     ]
    }
   ],
   "source": [
    "print(f'Mean: ', round(np.mean(sample_mean),3))\n",
    "print(f'Median: ', round(np.median(sample_mean),3))\n",
    "print(f'Mode: ', mode(sample_mean))\n",
    "\n",
    "#hence proved in Normal distribution mean = median = mode"
   ]
  },
  {
   "cell_type": "code",
   "execution_count": 133,
   "id": "5714c87d-0715-41dc-9d29-ae3b38c7d26d",
   "metadata": {},
   "outputs": [],
   "source": [
    "sample_mean = []\n",
    "for i in range(1,1000):\n",
    "    sample = np.random.choice(pop_bnd, size= size)\n",
    "    sample_mean.append(np.mean(sample))"
   ]
  },
  {
   "cell_type": "code",
   "execution_count": 134,
   "id": "4545cce9-a337-4b29-8cfc-612e468a98bf",
   "metadata": {},
   "outputs": [
    {
     "data": {
      "text/plain": [
       "<AxesSubplot:ylabel='Count'>"
      ]
     },
     "execution_count": 134,
     "metadata": {},
     "output_type": "execute_result"
    },
    {
     "data": {
      "image/png": "[encoded data removed]",
      "text/plain": [
       "<Figure size 640x480 with 1 Axes>"
      ]
     },
     "metadata": {},
     "output_type": "display_data"
    }
   ],
   "source": [
    "sns.histplot(sample_mean, kde = True, color = \"r\")"
   ]
  },
  {
   "cell_type": "code",
   "execution_count": 135,
   "id": "0b9f9fb2-b7e9-4552-a480-a3adccae077c",
   "metadata": {},
   "outputs": [
    {
     "data": {
      "text/plain": [
       "<AxesSubplot:ylabel='Density'>"
      ]
     },
     "execution_count": 135,
     "metadata": {},
     "output_type": "execute_result"
    },
    {
     "data": {
      "image/png": "[encoded data removed]",
      "text/plain": [
       "<Figure size 640x480 with 1 Axes>"
      ]
     },
     "metadata": {},
     "output_type": "display_data"
    }
   ],
   "source": [
    "sns.distplot(sample_mean)"
   ]
  },
  {
   "cell_type": "markdown",
   "id": "f6d9a261-b9ad-4bf4-aada-302be9e3ecd9",
   "metadata": {},
   "source": [
    "train-test split ---> random sampling"
   ]
  },
  {
   "cell_type": "code",
   "execution_count": 136,
   "id": "38ce9b2d-a562-485d-9670-a0864ca5a042",
   "metadata": {},
   "outputs": [
    {
     "name": "stdout",
     "output_type": "stream",
     "text": [
      "Mean:  5.008\n",
      "Median:  5.009\n",
      "Mode:  5.022333333333333\n"
     ]
    }
   ],
   "source": [
    "print(f'Mean: ', round(np.mean(sample_mean),3))\n",
    "print(f'Median: ', round(np.median(sample_mean),3))\n",
    "print(f'Mode: ', mode(sample_mean))\n",
    "\n",
    "#hence proved in Normal distribution mean = median = mode"
   ]
  },
  {
   "cell_type": "markdown",
   "id": "66300538-df47-4f71-b529-4dddf83d6177",
   "metadata": {},
   "source": [
    "# Confidence Interval and Marginal Error"
   ]
  },
  {
   "cell_type": "code",
   "execution_count": 137,
   "id": "8455727d-02ba-4f4b-ad87-ff29c0ce4b44",
   "metadata": {},
   "outputs": [],
   "source": [
    "import scipy.stats as stats"
   ]
  },
  {
   "cell_type": "code",
   "execution_count": 138,
   "id": "ef51e98a-40e4-4a8e-8d95-d5d727be6d8c",
   "metadata": {},
   "outputs": [
    {
     "data": {
      "text/plain": [
       "2.3263478740408408"
      ]
     },
     "execution_count": 138,
     "metadata": {},
     "output_type": "execute_result"
    }
   ],
   "source": [
    "stats.norm.ppf(q =0.99) #probablity density function = ppf\n",
    "#area under curve = "
   ]
  },
  {
   "cell_type": "code",
   "execution_count": 139,
   "id": "ef81fde2-5a17-46af-84f0-4918180057c0",
   "metadata": {},
   "outputs": [
    {
     "data": {
      "text/plain": [
       "1.959963984540054"
      ]
     },
     "execution_count": 139,
     "metadata": {},
     "output_type": "execute_result"
    }
   ],
   "source": [
    "z_critical = stats.norm.ppf(q =0.975)\n",
    "z_critical"
   ]
  },
  {
   "cell_type": "code",
   "execution_count": 140,
   "id": "b815b5aa-600b-4c42-a83a-5d58126e633c",
   "metadata": {},
   "outputs": [
    {
     "data": {
      "text/plain": [
       "2.0638985616280205"
      ]
     },
     "execution_count": 140,
     "metadata": {},
     "output_type": "execute_result"
    }
   ],
   "source": [
    "t_critical = stats.t.ppf(q=0.975, df = 24)\n",
    "t_critical"
   ]
  },
  {
   "cell_type": "code",
   "execution_count": 141,
   "id": "d0f9e027-2fda-477e-ae75-3a0cfae1e722",
   "metadata": {},
   "outputs": [
    {
     "data": {
      "text/plain": [
       "0.01228263831057093"
      ]
     },
     "execution_count": 141,
     "metadata": {},
     "output_type": "execute_result"
    }
   ],
   "source": [
    "margin_of_error = z_critical * (np.std(sample_mean)/np.sqrt(20))\n",
    "margin_of_error"
   ]
  },
  {
   "cell_type": "code",
   "execution_count": 145,
   "id": "164606b1-6c82-4ae3-95c8-fee97d0faf26",
   "metadata": {},
   "outputs": [],
   "source": [
    "UL  = round(np.mean(mean_of_samples) + margin_of_error, 2)\n",
    "LL  = round(np.mean(mean_of_samples) - margin_of_error,2)\n"
   ]
  },
  {
   "cell_type": "code",
   "execution_count": 146,
   "id": "b5d79f16-27f8-45b3-88ff-9dbbd106171f",
   "metadata": {},
   "outputs": [
    {
     "name": "stdout",
     "output_type": "stream",
     "text": [
      "4.94 4.91\n"
     ]
    }
   ],
   "source": [
    " R = print(UL, LL)"
   ]
  },
  {
   "cell_type": "code",
   "execution_count": 147,
   "id": "6bb756ae-70af-4540-921f-aca8d4858222",
   "metadata": {},
   "outputs": [
    {
     "data": {
      "text/plain": [
       "NoneType"
      ]
     },
     "execution_count": 147,
     "metadata": {},
     "output_type": "execute_result"
    }
   ],
   "source": [
    "type(R)"
   ]
  },
  {
   "cell_type": "markdown",
   "id": "242e498e-7ad6-4b69-9cd6-b89c647293db",
   "metadata": {},
   "source": [
    "# Z-test"
   ]
  },
  {
   "cell_type": "code",
   "execution_count": 223,
   "id": "70aa27cd-1b50-41f2-8c13-b47c64c3d65f",
   "metadata": {},
   "outputs": [],
   "source": [
    "from numpy.random import randn\n",
    "population = randn(10000)"
   ]
  },
  {
   "cell_type": "code",
   "execution_count": 224,
   "id": "41d018be-c5f5-4b98-b26b-6b2309ef4321",
   "metadata": {},
   "outputs": [
    {
     "data": {
      "text/plain": [
       "array([-0.18318562, -0.12891615, -1.0887109 , ..., -1.22620058,\n",
       "        1.07922323, -0.1940879 ])"
      ]
     },
     "execution_count": 224,
     "metadata": {},
     "output_type": "execute_result"
    }
   ],
   "source": [
    "population"
   ]
  },
  {
   "cell_type": "code",
   "execution_count": 225,
   "id": "1e5b92c6-ce04-4384-a7f3-4cdc5b71c9b9",
   "metadata": {},
   "outputs": [
    {
     "name": "stdout",
     "output_type": "stream",
     "text": [
      "Mean:  0.0032575611984018535 Std:  1.0012971357158416\n"
     ]
    }
   ],
   "source": [
    "print(f'Mean: ',np.mean(population), f'Std: ', np.std(population))"
   ]
  },
  {
   "cell_type": "code",
   "execution_count": 226,
   "id": "9278e3e2-ce68-4f31-8fa7-91a7555c1291",
   "metadata": {},
   "outputs": [],
   "source": [
    "aplha = 0.5"
   ]
  },
  {
   "cell_type": "code",
   "execution_count": 227,
   "id": "3d52a3b4-287f-4023-9dd1-b07751f0bef2",
   "metadata": {},
   "outputs": [
    {
     "data": {
      "text/plain": [
       "<AxesSubplot:ylabel='Density'>"
      ]
     },
     "execution_count": 227,
     "metadata": {},
     "output_type": "execute_result"
    },
    {
     "data": {
      "image/png": "[encoded data removed]",
      "text/plain": [
       "<Figure size 640x480 with 1 Axes>"
      ]
     },
     "metadata": {},
     "output_type": "display_data"
    }
   ],
   "source": [
    "sns.distplot(population)"
   ]
  },
  {
   "cell_type": "code",
   "execution_count": 228,
   "id": "0f62718c-38fa-47c3-98a4-bb92119b9a81",
   "metadata": {},
   "outputs": [],
   "source": [
    "from statsmodels.stats.weightstats import ztest"
   ]
  },
  {
   "cell_type": "code",
   "execution_count": 229,
   "id": "2d6d769d-537e-4d6f-9b42-1ba63cea0aa8",
   "metadata": {},
   "outputs": [],
   "source": [
    "z_score, p_value = ztest(population, value = np.mean(population), alternative= \"larger\") #larger--> two tailed test"
   ]
  },
  {
   "cell_type": "code",
   "execution_count": 230,
   "id": "98c725f3-cb8e-469c-82d4-ee577940795f",
   "metadata": {},
   "outputs": [
    {
     "data": {
      "text/plain": [
       "0.5"
      ]
     },
     "execution_count": 230,
     "metadata": {},
     "output_type": "execute_result"
    }
   ],
   "source": [
    "p_value "
   ]
  },
  {
   "cell_type": "code",
   "execution_count": 231,
   "id": "4d7c0c74-5f8e-4c07-81e7-076323bc4512",
   "metadata": {},
   "outputs": [
    {
     "name": "stdout",
     "output_type": "stream",
     "text": [
      "Null hypothesis is not rejected\n"
     ]
    }
   ],
   "source": [
    "if p_value < alpha:\n",
    "    print(\"Null hypothesis is rejected\")\n",
    "else:\n",
    "    print(\"Null hypothesis is not rejected\")"
   ]
  },
  {
   "cell_type": "code",
   "execution_count": null,
   "id": "c87d778f-97aa-475a-bbc9-a7488f6c5a01",
   "metadata": {},
   "outputs": [],
   "source": []
  },
  {
   "cell_type": "code",
   "execution_count": null,
   "id": "9b393b8c-b3dd-4602-8f04-489b0bceb974",
   "metadata": {},
   "outputs": [],
   "source": []
  },
  {
   "cell_type": "code",
   "execution_count": null,
   "id": "68255d11-b0c8-4e14-8a27-f74bf7b8f30d",
   "metadata": {},
   "outputs": [],
   "source": []
  }
 ],
 "metadata": {
  "kernelspec": {
   "display_name": "Python 3 (ipykernel)",
   "language": "python",
   "name": "python3"
  },
  "language_info": {
   "codemirror_mode": {
    "name": "ipython",
    "version": 3
   },
   "file_extension": ".py",
   "mimetype": "text/x-python",
   "name": "python",
   "nbconvert_exporter": "python",
   "pygments_lexer": "ipython3",
   "version": "3.8.10"
  }
 },
 "nbformat": 4,
 "nbformat_minor": 5
}
